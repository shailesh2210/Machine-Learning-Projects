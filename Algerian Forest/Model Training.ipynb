{
 "cells": [
  {
   "cell_type": "code",
   "execution_count": 131,
   "id": "7f037ef5",
   "metadata": {},
   "outputs": [],
   "source": [
    "import pandas as pd\n",
    "import numpy as np\n",
    "import seaborn as sns\n",
    "import matplotlib.pyplot as plt\n",
    "from sklearn.model_selection import train_test_split\n",
    "from sklearn.preprocessing import StandardScaler\n",
    "from sklearn.linear_model import LinearRegression , Lasso , Ridge,ElasticNet\n",
    "from sklearn.metrics import mean_absolute_error , r2_score"
   ]
  },
  {
   "cell_type": "code",
   "execution_count": 64,
   "id": "8047b736",
   "metadata": {},
   "outputs": [],
   "source": [
    "df = pd.read_csv(\"Algerian_forest_fires_Clean_Data.csv\")"
   ]
  },
  {
   "cell_type": "code",
   "execution_count": 65,
   "id": "64c08623",
   "metadata": {},
   "outputs": [
    {
     "data": {
      "text/html": [
       "<div>\n",
       "<style scoped>\n",
       "    .dataframe tbody tr th:only-of-type {\n",
       "        vertical-align: middle;\n",
       "    }\n",
       "\n",
       "    .dataframe tbody tr th {\n",
       "        vertical-align: top;\n",
       "    }\n",
       "\n",
       "    .dataframe thead th {\n",
       "        text-align: right;\n",
       "    }\n",
       "</style>\n",
       "<table border=\"1\" class=\"dataframe\">\n",
       "  <thead>\n",
       "    <tr style=\"text-align: right;\">\n",
       "      <th></th>\n",
       "      <th>day</th>\n",
       "      <th>month</th>\n",
       "      <th>year</th>\n",
       "      <th>Temperature</th>\n",
       "      <th>RH</th>\n",
       "      <th>Ws</th>\n",
       "      <th>Rain</th>\n",
       "      <th>FFMC</th>\n",
       "      <th>DMC</th>\n",
       "      <th>DC</th>\n",
       "      <th>ISI</th>\n",
       "      <th>BUI</th>\n",
       "      <th>FWI</th>\n",
       "      <th>Classes</th>\n",
       "      <th>Region</th>\n",
       "    </tr>\n",
       "  </thead>\n",
       "  <tbody>\n",
       "    <tr>\n",
       "      <th>0</th>\n",
       "      <td>1</td>\n",
       "      <td>6</td>\n",
       "      <td>2012</td>\n",
       "      <td>29</td>\n",
       "      <td>57</td>\n",
       "      <td>18</td>\n",
       "      <td>0.0</td>\n",
       "      <td>65.7</td>\n",
       "      <td>3.4</td>\n",
       "      <td>7.6</td>\n",
       "      <td>1.3</td>\n",
       "      <td>3.4</td>\n",
       "      <td>0.5</td>\n",
       "      <td>not fire</td>\n",
       "      <td>0</td>\n",
       "    </tr>\n",
       "    <tr>\n",
       "      <th>1</th>\n",
       "      <td>2</td>\n",
       "      <td>6</td>\n",
       "      <td>2012</td>\n",
       "      <td>29</td>\n",
       "      <td>61</td>\n",
       "      <td>13</td>\n",
       "      <td>1.3</td>\n",
       "      <td>64.4</td>\n",
       "      <td>4.1</td>\n",
       "      <td>7.6</td>\n",
       "      <td>1.0</td>\n",
       "      <td>3.9</td>\n",
       "      <td>0.4</td>\n",
       "      <td>not fire</td>\n",
       "      <td>0</td>\n",
       "    </tr>\n",
       "    <tr>\n",
       "      <th>2</th>\n",
       "      <td>3</td>\n",
       "      <td>6</td>\n",
       "      <td>2012</td>\n",
       "      <td>26</td>\n",
       "      <td>82</td>\n",
       "      <td>22</td>\n",
       "      <td>13.1</td>\n",
       "      <td>47.1</td>\n",
       "      <td>2.5</td>\n",
       "      <td>7.1</td>\n",
       "      <td>0.3</td>\n",
       "      <td>2.7</td>\n",
       "      <td>0.1</td>\n",
       "      <td>not fire</td>\n",
       "      <td>0</td>\n",
       "    </tr>\n",
       "    <tr>\n",
       "      <th>3</th>\n",
       "      <td>4</td>\n",
       "      <td>6</td>\n",
       "      <td>2012</td>\n",
       "      <td>25</td>\n",
       "      <td>89</td>\n",
       "      <td>13</td>\n",
       "      <td>2.5</td>\n",
       "      <td>28.6</td>\n",
       "      <td>1.3</td>\n",
       "      <td>6.9</td>\n",
       "      <td>0.0</td>\n",
       "      <td>1.7</td>\n",
       "      <td>0.0</td>\n",
       "      <td>not fire</td>\n",
       "      <td>0</td>\n",
       "    </tr>\n",
       "    <tr>\n",
       "      <th>4</th>\n",
       "      <td>5</td>\n",
       "      <td>6</td>\n",
       "      <td>2012</td>\n",
       "      <td>27</td>\n",
       "      <td>77</td>\n",
       "      <td>16</td>\n",
       "      <td>0.0</td>\n",
       "      <td>64.8</td>\n",
       "      <td>3.0</td>\n",
       "      <td>14.2</td>\n",
       "      <td>1.2</td>\n",
       "      <td>3.9</td>\n",
       "      <td>0.5</td>\n",
       "      <td>not fire</td>\n",
       "      <td>0</td>\n",
       "    </tr>\n",
       "  </tbody>\n",
       "</table>\n",
       "</div>"
      ],
      "text/plain": [
       "   day  month  year  Temperature  RH  Ws  Rain  FFMC  DMC    DC  ISI  BUI  \\\n",
       "0    1      6  2012           29  57  18   0.0  65.7  3.4   7.6  1.3  3.4   \n",
       "1    2      6  2012           29  61  13   1.3  64.4  4.1   7.6  1.0  3.9   \n",
       "2    3      6  2012           26  82  22  13.1  47.1  2.5   7.1  0.3  2.7   \n",
       "3    4      6  2012           25  89  13   2.5  28.6  1.3   6.9  0.0  1.7   \n",
       "4    5      6  2012           27  77  16   0.0  64.8  3.0  14.2  1.2  3.9   \n",
       "\n",
       "   FWI      Classes  Region  \n",
       "0  0.5  not fire          0  \n",
       "1  0.4  not fire          0  \n",
       "2  0.1  not fire          0  \n",
       "3  0.0  not fire          0  \n",
       "4  0.5  not fire          0  "
      ]
     },
     "execution_count": 65,
     "metadata": {},
     "output_type": "execute_result"
    }
   ],
   "source": [
    "df.head()"
   ]
  },
  {
   "cell_type": "code",
   "execution_count": 66,
   "id": "4cfdf68f",
   "metadata": {},
   "outputs": [],
   "source": [
    "df = df.drop([\"day\",\"month\",\"year\"],axis=1)"
   ]
  },
  {
   "cell_type": "code",
   "execution_count": 67,
   "id": "f067f3ba",
   "metadata": {},
   "outputs": [
    {
     "data": {
      "text/html": [
       "<div>\n",
       "<style scoped>\n",
       "    .dataframe tbody tr th:only-of-type {\n",
       "        vertical-align: middle;\n",
       "    }\n",
       "\n",
       "    .dataframe tbody tr th {\n",
       "        vertical-align: top;\n",
       "    }\n",
       "\n",
       "    .dataframe thead th {\n",
       "        text-align: right;\n",
       "    }\n",
       "</style>\n",
       "<table border=\"1\" class=\"dataframe\">\n",
       "  <thead>\n",
       "    <tr style=\"text-align: right;\">\n",
       "      <th></th>\n",
       "      <th>Temperature</th>\n",
       "      <th>RH</th>\n",
       "      <th>Ws</th>\n",
       "      <th>Rain</th>\n",
       "      <th>FFMC</th>\n",
       "      <th>DMC</th>\n",
       "      <th>DC</th>\n",
       "      <th>ISI</th>\n",
       "      <th>BUI</th>\n",
       "      <th>FWI</th>\n",
       "      <th>Classes</th>\n",
       "      <th>Region</th>\n",
       "    </tr>\n",
       "  </thead>\n",
       "  <tbody>\n",
       "    <tr>\n",
       "      <th>0</th>\n",
       "      <td>29</td>\n",
       "      <td>57</td>\n",
       "      <td>18</td>\n",
       "      <td>0.0</td>\n",
       "      <td>65.7</td>\n",
       "      <td>3.4</td>\n",
       "      <td>7.6</td>\n",
       "      <td>1.3</td>\n",
       "      <td>3.4</td>\n",
       "      <td>0.5</td>\n",
       "      <td>not fire</td>\n",
       "      <td>0</td>\n",
       "    </tr>\n",
       "    <tr>\n",
       "      <th>1</th>\n",
       "      <td>29</td>\n",
       "      <td>61</td>\n",
       "      <td>13</td>\n",
       "      <td>1.3</td>\n",
       "      <td>64.4</td>\n",
       "      <td>4.1</td>\n",
       "      <td>7.6</td>\n",
       "      <td>1.0</td>\n",
       "      <td>3.9</td>\n",
       "      <td>0.4</td>\n",
       "      <td>not fire</td>\n",
       "      <td>0</td>\n",
       "    </tr>\n",
       "    <tr>\n",
       "      <th>2</th>\n",
       "      <td>26</td>\n",
       "      <td>82</td>\n",
       "      <td>22</td>\n",
       "      <td>13.1</td>\n",
       "      <td>47.1</td>\n",
       "      <td>2.5</td>\n",
       "      <td>7.1</td>\n",
       "      <td>0.3</td>\n",
       "      <td>2.7</td>\n",
       "      <td>0.1</td>\n",
       "      <td>not fire</td>\n",
       "      <td>0</td>\n",
       "    </tr>\n",
       "    <tr>\n",
       "      <th>3</th>\n",
       "      <td>25</td>\n",
       "      <td>89</td>\n",
       "      <td>13</td>\n",
       "      <td>2.5</td>\n",
       "      <td>28.6</td>\n",
       "      <td>1.3</td>\n",
       "      <td>6.9</td>\n",
       "      <td>0.0</td>\n",
       "      <td>1.7</td>\n",
       "      <td>0.0</td>\n",
       "      <td>not fire</td>\n",
       "      <td>0</td>\n",
       "    </tr>\n",
       "    <tr>\n",
       "      <th>4</th>\n",
       "      <td>27</td>\n",
       "      <td>77</td>\n",
       "      <td>16</td>\n",
       "      <td>0.0</td>\n",
       "      <td>64.8</td>\n",
       "      <td>3.0</td>\n",
       "      <td>14.2</td>\n",
       "      <td>1.2</td>\n",
       "      <td>3.9</td>\n",
       "      <td>0.5</td>\n",
       "      <td>not fire</td>\n",
       "      <td>0</td>\n",
       "    </tr>\n",
       "  </tbody>\n",
       "</table>\n",
       "</div>"
      ],
      "text/plain": [
       "   Temperature  RH  Ws  Rain  FFMC  DMC    DC  ISI  BUI  FWI      Classes  \\\n",
       "0           29  57  18   0.0  65.7  3.4   7.6  1.3  3.4  0.5  not fire      \n",
       "1           29  61  13   1.3  64.4  4.1   7.6  1.0  3.9  0.4  not fire      \n",
       "2           26  82  22  13.1  47.1  2.5   7.1  0.3  2.7  0.1  not fire      \n",
       "3           25  89  13   2.5  28.6  1.3   6.9  0.0  1.7  0.0  not fire      \n",
       "4           27  77  16   0.0  64.8  3.0  14.2  1.2  3.9  0.5  not fire      \n",
       "\n",
       "   Region  \n",
       "0       0  \n",
       "1       0  \n",
       "2       0  \n",
       "3       0  \n",
       "4       0  "
      ]
     },
     "execution_count": 67,
     "metadata": {},
     "output_type": "execute_result"
    }
   ],
   "source": [
    "df.head()"
   ]
  },
  {
   "cell_type": "code",
   "execution_count": 68,
   "id": "c0f3d818",
   "metadata": {},
   "outputs": [
    {
     "data": {
      "text/plain": [
       "array(['not fire   ', 'fire   ', 'fire', 'fire ', 'not fire', 'not fire ',\n",
       "       'not fire     ', 'not fire    '], dtype=object)"
      ]
     },
     "execution_count": 68,
     "metadata": {},
     "output_type": "execute_result"
    }
   ],
   "source": [
    "df[\"Classes\"].unique()"
   ]
  },
  {
   "cell_type": "code",
   "execution_count": 69,
   "id": "c080a1bc",
   "metadata": {},
   "outputs": [],
   "source": [
    "df[\"Classes\"] = np.where(df[\"Classes\"].str.contains(\"not fire\"),0,1)"
   ]
  },
  {
   "cell_type": "code",
   "execution_count": 70,
   "id": "b2010b12",
   "metadata": {},
   "outputs": [
    {
     "data": {
      "text/html": [
       "<div>\n",
       "<style scoped>\n",
       "    .dataframe tbody tr th:only-of-type {\n",
       "        vertical-align: middle;\n",
       "    }\n",
       "\n",
       "    .dataframe tbody tr th {\n",
       "        vertical-align: top;\n",
       "    }\n",
       "\n",
       "    .dataframe thead th {\n",
       "        text-align: right;\n",
       "    }\n",
       "</style>\n",
       "<table border=\"1\" class=\"dataframe\">\n",
       "  <thead>\n",
       "    <tr style=\"text-align: right;\">\n",
       "      <th></th>\n",
       "      <th>Temperature</th>\n",
       "      <th>RH</th>\n",
       "      <th>Ws</th>\n",
       "      <th>Rain</th>\n",
       "      <th>FFMC</th>\n",
       "      <th>DMC</th>\n",
       "      <th>DC</th>\n",
       "      <th>ISI</th>\n",
       "      <th>BUI</th>\n",
       "      <th>FWI</th>\n",
       "      <th>Classes</th>\n",
       "      <th>Region</th>\n",
       "    </tr>\n",
       "  </thead>\n",
       "  <tbody>\n",
       "    <tr>\n",
       "      <th>0</th>\n",
       "      <td>29</td>\n",
       "      <td>57</td>\n",
       "      <td>18</td>\n",
       "      <td>0.0</td>\n",
       "      <td>65.7</td>\n",
       "      <td>3.4</td>\n",
       "      <td>7.6</td>\n",
       "      <td>1.3</td>\n",
       "      <td>3.4</td>\n",
       "      <td>0.5</td>\n",
       "      <td>0</td>\n",
       "      <td>0</td>\n",
       "    </tr>\n",
       "    <tr>\n",
       "      <th>1</th>\n",
       "      <td>29</td>\n",
       "      <td>61</td>\n",
       "      <td>13</td>\n",
       "      <td>1.3</td>\n",
       "      <td>64.4</td>\n",
       "      <td>4.1</td>\n",
       "      <td>7.6</td>\n",
       "      <td>1.0</td>\n",
       "      <td>3.9</td>\n",
       "      <td>0.4</td>\n",
       "      <td>0</td>\n",
       "      <td>0</td>\n",
       "    </tr>\n",
       "    <tr>\n",
       "      <th>2</th>\n",
       "      <td>26</td>\n",
       "      <td>82</td>\n",
       "      <td>22</td>\n",
       "      <td>13.1</td>\n",
       "      <td>47.1</td>\n",
       "      <td>2.5</td>\n",
       "      <td>7.1</td>\n",
       "      <td>0.3</td>\n",
       "      <td>2.7</td>\n",
       "      <td>0.1</td>\n",
       "      <td>0</td>\n",
       "      <td>0</td>\n",
       "    </tr>\n",
       "    <tr>\n",
       "      <th>3</th>\n",
       "      <td>25</td>\n",
       "      <td>89</td>\n",
       "      <td>13</td>\n",
       "      <td>2.5</td>\n",
       "      <td>28.6</td>\n",
       "      <td>1.3</td>\n",
       "      <td>6.9</td>\n",
       "      <td>0.0</td>\n",
       "      <td>1.7</td>\n",
       "      <td>0.0</td>\n",
       "      <td>0</td>\n",
       "      <td>0</td>\n",
       "    </tr>\n",
       "    <tr>\n",
       "      <th>4</th>\n",
       "      <td>27</td>\n",
       "      <td>77</td>\n",
       "      <td>16</td>\n",
       "      <td>0.0</td>\n",
       "      <td>64.8</td>\n",
       "      <td>3.0</td>\n",
       "      <td>14.2</td>\n",
       "      <td>1.2</td>\n",
       "      <td>3.9</td>\n",
       "      <td>0.5</td>\n",
       "      <td>0</td>\n",
       "      <td>0</td>\n",
       "    </tr>\n",
       "  </tbody>\n",
       "</table>\n",
       "</div>"
      ],
      "text/plain": [
       "   Temperature  RH  Ws  Rain  FFMC  DMC    DC  ISI  BUI  FWI  Classes  Region\n",
       "0           29  57  18   0.0  65.7  3.4   7.6  1.3  3.4  0.5        0       0\n",
       "1           29  61  13   1.3  64.4  4.1   7.6  1.0  3.9  0.4        0       0\n",
       "2           26  82  22  13.1  47.1  2.5   7.1  0.3  2.7  0.1        0       0\n",
       "3           25  89  13   2.5  28.6  1.3   6.9  0.0  1.7  0.0        0       0\n",
       "4           27  77  16   0.0  64.8  3.0  14.2  1.2  3.9  0.5        0       0"
      ]
     },
     "execution_count": 70,
     "metadata": {},
     "output_type": "execute_result"
    }
   ],
   "source": [
    "df.head()"
   ]
  },
  {
   "cell_type": "code",
   "execution_count": 71,
   "id": "2ed3f5f3",
   "metadata": {},
   "outputs": [],
   "source": [
    "# independent and dependent features\n",
    "x = df.drop(\"FWI\",axis=1)\n",
    "y = df[\"FWI\"]"
   ]
  },
  {
   "cell_type": "code",
   "execution_count": 72,
   "id": "51dc7d6f",
   "metadata": {},
   "outputs": [
    {
     "data": {
      "text/html": [
       "<div>\n",
       "<style scoped>\n",
       "    .dataframe tbody tr th:only-of-type {\n",
       "        vertical-align: middle;\n",
       "    }\n",
       "\n",
       "    .dataframe tbody tr th {\n",
       "        vertical-align: top;\n",
       "    }\n",
       "\n",
       "    .dataframe thead th {\n",
       "        text-align: right;\n",
       "    }\n",
       "</style>\n",
       "<table border=\"1\" class=\"dataframe\">\n",
       "  <thead>\n",
       "    <tr style=\"text-align: right;\">\n",
       "      <th></th>\n",
       "      <th>Temperature</th>\n",
       "      <th>RH</th>\n",
       "      <th>Ws</th>\n",
       "      <th>Rain</th>\n",
       "      <th>FFMC</th>\n",
       "      <th>DMC</th>\n",
       "      <th>DC</th>\n",
       "      <th>ISI</th>\n",
       "      <th>BUI</th>\n",
       "      <th>Classes</th>\n",
       "      <th>Region</th>\n",
       "    </tr>\n",
       "  </thead>\n",
       "  <tbody>\n",
       "    <tr>\n",
       "      <th>0</th>\n",
       "      <td>29</td>\n",
       "      <td>57</td>\n",
       "      <td>18</td>\n",
       "      <td>0.0</td>\n",
       "      <td>65.7</td>\n",
       "      <td>3.4</td>\n",
       "      <td>7.6</td>\n",
       "      <td>1.3</td>\n",
       "      <td>3.4</td>\n",
       "      <td>0</td>\n",
       "      <td>0</td>\n",
       "    </tr>\n",
       "    <tr>\n",
       "      <th>1</th>\n",
       "      <td>29</td>\n",
       "      <td>61</td>\n",
       "      <td>13</td>\n",
       "      <td>1.3</td>\n",
       "      <td>64.4</td>\n",
       "      <td>4.1</td>\n",
       "      <td>7.6</td>\n",
       "      <td>1.0</td>\n",
       "      <td>3.9</td>\n",
       "      <td>0</td>\n",
       "      <td>0</td>\n",
       "    </tr>\n",
       "    <tr>\n",
       "      <th>2</th>\n",
       "      <td>26</td>\n",
       "      <td>82</td>\n",
       "      <td>22</td>\n",
       "      <td>13.1</td>\n",
       "      <td>47.1</td>\n",
       "      <td>2.5</td>\n",
       "      <td>7.1</td>\n",
       "      <td>0.3</td>\n",
       "      <td>2.7</td>\n",
       "      <td>0</td>\n",
       "      <td>0</td>\n",
       "    </tr>\n",
       "    <tr>\n",
       "      <th>3</th>\n",
       "      <td>25</td>\n",
       "      <td>89</td>\n",
       "      <td>13</td>\n",
       "      <td>2.5</td>\n",
       "      <td>28.6</td>\n",
       "      <td>1.3</td>\n",
       "      <td>6.9</td>\n",
       "      <td>0.0</td>\n",
       "      <td>1.7</td>\n",
       "      <td>0</td>\n",
       "      <td>0</td>\n",
       "    </tr>\n",
       "    <tr>\n",
       "      <th>4</th>\n",
       "      <td>27</td>\n",
       "      <td>77</td>\n",
       "      <td>16</td>\n",
       "      <td>0.0</td>\n",
       "      <td>64.8</td>\n",
       "      <td>3.0</td>\n",
       "      <td>14.2</td>\n",
       "      <td>1.2</td>\n",
       "      <td>3.9</td>\n",
       "      <td>0</td>\n",
       "      <td>0</td>\n",
       "    </tr>\n",
       "  </tbody>\n",
       "</table>\n",
       "</div>"
      ],
      "text/plain": [
       "   Temperature  RH  Ws  Rain  FFMC  DMC    DC  ISI  BUI  Classes  Region\n",
       "0           29  57  18   0.0  65.7  3.4   7.6  1.3  3.4        0       0\n",
       "1           29  61  13   1.3  64.4  4.1   7.6  1.0  3.9        0       0\n",
       "2           26  82  22  13.1  47.1  2.5   7.1  0.3  2.7        0       0\n",
       "3           25  89  13   2.5  28.6  1.3   6.9  0.0  1.7        0       0\n",
       "4           27  77  16   0.0  64.8  3.0  14.2  1.2  3.9        0       0"
      ]
     },
     "execution_count": 72,
     "metadata": {},
     "output_type": "execute_result"
    }
   ],
   "source": [
    "x.head()"
   ]
  },
  {
   "cell_type": "code",
   "execution_count": 73,
   "id": "a1b0ffa6",
   "metadata": {},
   "outputs": [
    {
     "data": {
      "text/plain": [
       "0      0.5\n",
       "1      0.4\n",
       "2      0.1\n",
       "3      0.0\n",
       "4      0.5\n",
       "      ... \n",
       "238    6.5\n",
       "239    0.0\n",
       "240    0.2\n",
       "241    0.7\n",
       "242    0.5\n",
       "Name: FWI, Length: 243, dtype: float64"
      ]
     },
     "execution_count": 73,
     "metadata": {},
     "output_type": "execute_result"
    }
   ],
   "source": [
    "y"
   ]
  },
  {
   "cell_type": "code",
   "execution_count": 74,
   "id": "3e17fd51",
   "metadata": {},
   "outputs": [],
   "source": [
    "x_train , x_test , y_train , y_test = train_test_split(x,y, test_size=0.2 , random_state=42)"
   ]
  },
  {
   "cell_type": "code",
   "execution_count": 75,
   "id": "b98e9c14",
   "metadata": {},
   "outputs": [
    {
     "data": {
      "text/plain": [
       "(194, 11)"
      ]
     },
     "execution_count": 75,
     "metadata": {},
     "output_type": "execute_result"
    }
   ],
   "source": [
    "x_train.shape"
   ]
  },
  {
   "cell_type": "code",
   "execution_count": 76,
   "id": "e90e6e05",
   "metadata": {},
   "outputs": [
    {
     "data": {
      "text/plain": [
       "(49, 11)"
      ]
     },
     "execution_count": 76,
     "metadata": {},
     "output_type": "execute_result"
    }
   ],
   "source": [
    "x_test.shape"
   ]
  },
  {
   "cell_type": "markdown",
   "id": "b627d73c",
   "metadata": {},
   "source": [
    "### Feature Selection"
   ]
  },
  {
   "cell_type": "code",
   "execution_count": 77,
   "id": "c401baa5",
   "metadata": {},
   "outputs": [
    {
     "data": {
      "text/plain": [
       "<Axes: >"
      ]
     },
     "execution_count": 77,
     "metadata": {},
     "output_type": "execute_result"
    },
    {
     "data": {
      "image/png": "[encoded data removed]",
      "text/plain": [
       "<Figure size 1080x648 with 2 Axes>"
      ]
     },
     "metadata": {
      "needs_background": "light"
     },
     "output_type": "display_data"
    }
   ],
   "source": [
    "# checking muliti-collinerity\n",
    "# multi-colinearity means independents features should not be much co-related \n",
    "plt.figure(figsize=(15,9))\n",
    "corr = x_train.corr()\n",
    "sns.heatmap(corr,annot=True, cmap=\"Wistia\")"
   ]
  },
  {
   "cell_type": "code",
   "execution_count": 78,
   "id": "c97d5c54",
   "metadata": {},
   "outputs": [],
   "source": [
    "def correlation(dataset , threshold):\n",
    "    col_corr = set()\n",
    "    col_matrix = dataset.corr()\n",
    "    for i in range(len(col_matrix.columns)):\n",
    "        for j in range(i):\n",
    "            if abs(col_matrix.iloc[i,j]>threshold):\n",
    "                colname = col_matrix.columns[i]\n",
    "                col_corr.add(colname)\n",
    "    return col_corr"
   ]
  },
  {
   "cell_type": "code",
   "execution_count": 79,
   "id": "ebdf9a6b",
   "metadata": {},
   "outputs": [],
   "source": [
    "# threshold value always decided by the domain expert\n",
    "corr_features = correlation(x_train , 0.85)"
   ]
  },
  {
   "cell_type": "code",
   "execution_count": 80,
   "id": "ac8bde77",
   "metadata": {},
   "outputs": [
    {
     "name": "stderr",
     "output_type": "stream",
     "text": [
      "<ipython-input-80-296813e8b249>:2: SettingWithCopyWarning: \n",
      "A value is trying to be set on a copy of a slice from a DataFrame\n",
      "\n",
      "See the caveats in the documentation: https://pandas.pydata.org/pandas-docs/stable/user_guide/indexing.html#returning-a-view-versus-a-copy\n",
      "  x_train.drop(corr_features, axis=1 , inplace=True)\n",
      "<ipython-input-80-296813e8b249>:3: SettingWithCopyWarning: \n",
      "A value is trying to be set on a copy of a slice from a DataFrame\n",
      "\n",
      "See the caveats in the documentation: https://pandas.pydata.org/pandas-docs/stable/user_guide/indexing.html#returning-a-view-versus-a-copy\n",
      "  x_test.drop(corr_features, axis=1 , inplace=True)\n"
     ]
    }
   ],
   "source": [
    "# drop features that are highly co releated\n",
    "x_train.drop(corr_features, axis=1 , inplace=True)\n",
    "x_test.drop(corr_features, axis=1 , inplace=True)"
   ]
  },
  {
   "cell_type": "code",
   "execution_count": 81,
   "id": "b1b1eb19",
   "metadata": {},
   "outputs": [
    {
     "data": {
      "text/plain": [
       "((194, 9), (49, 9))"
      ]
     },
     "execution_count": 81,
     "metadata": {},
     "output_type": "execute_result"
    }
   ],
   "source": [
    "x_train.shape , x_test.shape"
   ]
  },
  {
   "cell_type": "code",
   "execution_count": 86,
   "id": "a5345f97",
   "metadata": {},
   "outputs": [
    {
     "data": {
      "text/html": [
       "<div>\n",
       "<style scoped>\n",
       "    .dataframe tbody tr th:only-of-type {\n",
       "        vertical-align: middle;\n",
       "    }\n",
       "\n",
       "    .dataframe tbody tr th {\n",
       "        vertical-align: top;\n",
       "    }\n",
       "\n",
       "    .dataframe thead th {\n",
       "        text-align: right;\n",
       "    }\n",
       "</style>\n",
       "<table border=\"1\" class=\"dataframe\">\n",
       "  <thead>\n",
       "    <tr style=\"text-align: right;\">\n",
       "      <th></th>\n",
       "      <th>Temperature</th>\n",
       "      <th>RH</th>\n",
       "      <th>Ws</th>\n",
       "      <th>Rain</th>\n",
       "      <th>FFMC</th>\n",
       "      <th>DMC</th>\n",
       "      <th>ISI</th>\n",
       "      <th>Classes</th>\n",
       "      <th>Region</th>\n",
       "    </tr>\n",
       "  </thead>\n",
       "  <tbody>\n",
       "    <tr>\n",
       "      <th>115</th>\n",
       "      <td>29</td>\n",
       "      <td>65</td>\n",
       "      <td>19</td>\n",
       "      <td>0.6</td>\n",
       "      <td>68.3</td>\n",
       "      <td>5.5</td>\n",
       "      <td>1.5</td>\n",
       "      <td>0</td>\n",
       "      <td>0</td>\n",
       "    </tr>\n",
       "    <tr>\n",
       "      <th>207</th>\n",
       "      <td>33</td>\n",
       "      <td>37</td>\n",
       "      <td>16</td>\n",
       "      <td>0.0</td>\n",
       "      <td>92.2</td>\n",
       "      <td>61.3</td>\n",
       "      <td>13.1</td>\n",
       "      <td>1</td>\n",
       "      <td>1</td>\n",
       "    </tr>\n",
       "    <tr>\n",
       "      <th>158</th>\n",
       "      <td>38</td>\n",
       "      <td>43</td>\n",
       "      <td>13</td>\n",
       "      <td>0.5</td>\n",
       "      <td>85.0</td>\n",
       "      <td>13.0</td>\n",
       "      <td>4.1</td>\n",
       "      <td>1</td>\n",
       "      <td>1</td>\n",
       "    </tr>\n",
       "    <tr>\n",
       "      <th>132</th>\n",
       "      <td>31</td>\n",
       "      <td>42</td>\n",
       "      <td>21</td>\n",
       "      <td>0.0</td>\n",
       "      <td>90.6</td>\n",
       "      <td>18.2</td>\n",
       "      <td>13.4</td>\n",
       "      <td>1</td>\n",
       "      <td>1</td>\n",
       "    </tr>\n",
       "    <tr>\n",
       "      <th>84</th>\n",
       "      <td>34</td>\n",
       "      <td>64</td>\n",
       "      <td>14</td>\n",
       "      <td>0.0</td>\n",
       "      <td>88.9</td>\n",
       "      <td>40.5</td>\n",
       "      <td>9.0</td>\n",
       "      <td>1</td>\n",
       "      <td>0</td>\n",
       "    </tr>\n",
       "    <tr>\n",
       "      <th>...</th>\n",
       "      <td>...</td>\n",
       "      <td>...</td>\n",
       "      <td>...</td>\n",
       "      <td>...</td>\n",
       "      <td>...</td>\n",
       "      <td>...</td>\n",
       "      <td>...</td>\n",
       "      <td>...</td>\n",
       "      <td>...</td>\n",
       "    </tr>\n",
       "    <tr>\n",
       "      <th>106</th>\n",
       "      <td>24</td>\n",
       "      <td>82</td>\n",
       "      <td>15</td>\n",
       "      <td>0.4</td>\n",
       "      <td>44.9</td>\n",
       "      <td>0.9</td>\n",
       "      <td>0.2</td>\n",
       "      <td>0</td>\n",
       "      <td>0</td>\n",
       "    </tr>\n",
       "    <tr>\n",
       "      <th>14</th>\n",
       "      <td>28</td>\n",
       "      <td>80</td>\n",
       "      <td>17</td>\n",
       "      <td>3.1</td>\n",
       "      <td>49.4</td>\n",
       "      <td>3.0</td>\n",
       "      <td>0.4</td>\n",
       "      <td>0</td>\n",
       "      <td>0</td>\n",
       "    </tr>\n",
       "    <tr>\n",
       "      <th>92</th>\n",
       "      <td>25</td>\n",
       "      <td>76</td>\n",
       "      <td>17</td>\n",
       "      <td>7.2</td>\n",
       "      <td>46.0</td>\n",
       "      <td>1.3</td>\n",
       "      <td>0.2</td>\n",
       "      <td>0</td>\n",
       "      <td>0</td>\n",
       "    </tr>\n",
       "    <tr>\n",
       "      <th>179</th>\n",
       "      <td>34</td>\n",
       "      <td>59</td>\n",
       "      <td>16</td>\n",
       "      <td>0.0</td>\n",
       "      <td>88.1</td>\n",
       "      <td>19.5</td>\n",
       "      <td>7.4</td>\n",
       "      <td>1</td>\n",
       "      <td>1</td>\n",
       "    </tr>\n",
       "    <tr>\n",
       "      <th>102</th>\n",
       "      <td>30</td>\n",
       "      <td>77</td>\n",
       "      <td>21</td>\n",
       "      <td>1.8</td>\n",
       "      <td>58.5</td>\n",
       "      <td>1.9</td>\n",
       "      <td>1.1</td>\n",
       "      <td>0</td>\n",
       "      <td>0</td>\n",
       "    </tr>\n",
       "  </tbody>\n",
       "</table>\n",
       "<p>194 rows × 9 columns</p>\n",
       "</div>"
      ],
      "text/plain": [
       "     Temperature  RH  Ws  Rain  FFMC   DMC   ISI  Classes  Region\n",
       "115           29  65  19   0.6  68.3   5.5   1.5        0       0\n",
       "207           33  37  16   0.0  92.2  61.3  13.1        1       1\n",
       "158           38  43  13   0.5  85.0  13.0   4.1        1       1\n",
       "132           31  42  21   0.0  90.6  18.2  13.4        1       1\n",
       "84            34  64  14   0.0  88.9  40.5   9.0        1       0\n",
       "..           ...  ..  ..   ...   ...   ...   ...      ...     ...\n",
       "106           24  82  15   0.4  44.9   0.9   0.2        0       0\n",
       "14            28  80  17   3.1  49.4   3.0   0.4        0       0\n",
       "92            25  76  17   7.2  46.0   1.3   0.2        0       0\n",
       "179           34  59  16   0.0  88.1  19.5   7.4        1       1\n",
       "102           30  77  21   1.8  58.5   1.9   1.1        0       0\n",
       "\n",
       "[194 rows x 9 columns]"
      ]
     },
     "execution_count": 86,
     "metadata": {},
     "output_type": "execute_result"
    }
   ],
   "source": [
    "x_train"
   ]
  },
  {
   "cell_type": "code",
   "execution_count": 87,
   "id": "f13e6f33",
   "metadata": {},
   "outputs": [
    {
     "data": {
      "text/html": [
       "<div>\n",
       "<style scoped>\n",
       "    .dataframe tbody tr th:only-of-type {\n",
       "        vertical-align: middle;\n",
       "    }\n",
       "\n",
       "    .dataframe tbody tr th {\n",
       "        vertical-align: top;\n",
       "    }\n",
       "\n",
       "    .dataframe thead th {\n",
       "        text-align: right;\n",
       "    }\n",
       "</style>\n",
       "<table border=\"1\" class=\"dataframe\">\n",
       "  <thead>\n",
       "    <tr style=\"text-align: right;\">\n",
       "      <th></th>\n",
       "      <th>Temperature</th>\n",
       "      <th>RH</th>\n",
       "      <th>Ws</th>\n",
       "      <th>Rain</th>\n",
       "      <th>FFMC</th>\n",
       "      <th>DMC</th>\n",
       "      <th>ISI</th>\n",
       "      <th>Classes</th>\n",
       "      <th>Region</th>\n",
       "    </tr>\n",
       "  </thead>\n",
       "  <tbody>\n",
       "    <tr>\n",
       "      <th>24</th>\n",
       "      <td>31</td>\n",
       "      <td>64</td>\n",
       "      <td>15</td>\n",
       "      <td>0.0</td>\n",
       "      <td>86.7</td>\n",
       "      <td>14.2</td>\n",
       "      <td>5.7</td>\n",
       "      <td>1</td>\n",
       "      <td>0</td>\n",
       "    </tr>\n",
       "    <tr>\n",
       "      <th>6</th>\n",
       "      <td>33</td>\n",
       "      <td>54</td>\n",
       "      <td>13</td>\n",
       "      <td>0.0</td>\n",
       "      <td>88.2</td>\n",
       "      <td>9.9</td>\n",
       "      <td>6.4</td>\n",
       "      <td>1</td>\n",
       "      <td>0</td>\n",
       "    </tr>\n",
       "    <tr>\n",
       "      <th>152</th>\n",
       "      <td>28</td>\n",
       "      <td>58</td>\n",
       "      <td>18</td>\n",
       "      <td>2.2</td>\n",
       "      <td>63.7</td>\n",
       "      <td>3.2</td>\n",
       "      <td>1.2</td>\n",
       "      <td>0</td>\n",
       "      <td>1</td>\n",
       "    </tr>\n",
       "    <tr>\n",
       "      <th>232</th>\n",
       "      <td>34</td>\n",
       "      <td>58</td>\n",
       "      <td>13</td>\n",
       "      <td>0.2</td>\n",
       "      <td>79.5</td>\n",
       "      <td>18.7</td>\n",
       "      <td>2.1</td>\n",
       "      <td>0</td>\n",
       "      <td>1</td>\n",
       "    </tr>\n",
       "    <tr>\n",
       "      <th>238</th>\n",
       "      <td>30</td>\n",
       "      <td>65</td>\n",
       "      <td>14</td>\n",
       "      <td>0.0</td>\n",
       "      <td>85.4</td>\n",
       "      <td>16.0</td>\n",
       "      <td>4.5</td>\n",
       "      <td>1</td>\n",
       "      <td>1</td>\n",
       "    </tr>\n",
       "    <tr>\n",
       "      <th>175</th>\n",
       "      <td>39</td>\n",
       "      <td>64</td>\n",
       "      <td>9</td>\n",
       "      <td>1.2</td>\n",
       "      <td>73.8</td>\n",
       "      <td>11.7</td>\n",
       "      <td>1.1</td>\n",
       "      <td>0</td>\n",
       "      <td>1</td>\n",
       "    </tr>\n",
       "    <tr>\n",
       "      <th>215</th>\n",
       "      <td>28</td>\n",
       "      <td>75</td>\n",
       "      <td>16</td>\n",
       "      <td>0.0</td>\n",
       "      <td>82.2</td>\n",
       "      <td>4.4</td>\n",
       "      <td>3.3</td>\n",
       "      <td>1</td>\n",
       "      <td>1</td>\n",
       "    </tr>\n",
       "    <tr>\n",
       "      <th>150</th>\n",
       "      <td>37</td>\n",
       "      <td>36</td>\n",
       "      <td>13</td>\n",
       "      <td>0.6</td>\n",
       "      <td>86.2</td>\n",
       "      <td>17.9</td>\n",
       "      <td>4.8</td>\n",
       "      <td>1</td>\n",
       "      <td>1</td>\n",
       "    </tr>\n",
       "    <tr>\n",
       "      <th>9</th>\n",
       "      <td>28</td>\n",
       "      <td>79</td>\n",
       "      <td>12</td>\n",
       "      <td>0.0</td>\n",
       "      <td>73.2</td>\n",
       "      <td>9.5</td>\n",
       "      <td>1.3</td>\n",
       "      <td>0</td>\n",
       "      <td>0</td>\n",
       "    </tr>\n",
       "    <tr>\n",
       "      <th>113</th>\n",
       "      <td>31</td>\n",
       "      <td>50</td>\n",
       "      <td>19</td>\n",
       "      <td>0.6</td>\n",
       "      <td>77.8</td>\n",
       "      <td>10.6</td>\n",
       "      <td>2.4</td>\n",
       "      <td>0</td>\n",
       "      <td>0</td>\n",
       "    </tr>\n",
       "    <tr>\n",
       "      <th>45</th>\n",
       "      <td>28</td>\n",
       "      <td>76</td>\n",
       "      <td>21</td>\n",
       "      <td>0.0</td>\n",
       "      <td>72.6</td>\n",
       "      <td>7.0</td>\n",
       "      <td>0.7</td>\n",
       "      <td>0</td>\n",
       "      <td>0</td>\n",
       "    </tr>\n",
       "    <tr>\n",
       "      <th>209</th>\n",
       "      <td>35</td>\n",
       "      <td>56</td>\n",
       "      <td>14</td>\n",
       "      <td>0.4</td>\n",
       "      <td>79.2</td>\n",
       "      <td>37.0</td>\n",
       "      <td>2.1</td>\n",
       "      <td>0</td>\n",
       "      <td>1</td>\n",
       "    </tr>\n",
       "    <tr>\n",
       "      <th>227</th>\n",
       "      <td>32</td>\n",
       "      <td>51</td>\n",
       "      <td>13</td>\n",
       "      <td>0.0</td>\n",
       "      <td>88.7</td>\n",
       "      <td>16.0</td>\n",
       "      <td>6.9</td>\n",
       "      <td>1</td>\n",
       "      <td>1</td>\n",
       "    </tr>\n",
       "    <tr>\n",
       "      <th>170</th>\n",
       "      <td>36</td>\n",
       "      <td>50</td>\n",
       "      <td>16</td>\n",
       "      <td>0.0</td>\n",
       "      <td>89.9</td>\n",
       "      <td>32.7</td>\n",
       "      <td>9.5</td>\n",
       "      <td>1</td>\n",
       "      <td>1</td>\n",
       "    </tr>\n",
       "    <tr>\n",
       "      <th>82</th>\n",
       "      <td>36</td>\n",
       "      <td>55</td>\n",
       "      <td>18</td>\n",
       "      <td>0.0</td>\n",
       "      <td>89.1</td>\n",
       "      <td>33.5</td>\n",
       "      <td>9.9</td>\n",
       "      <td>1</td>\n",
       "      <td>0</td>\n",
       "    </tr>\n",
       "    <tr>\n",
       "      <th>161</th>\n",
       "      <td>34</td>\n",
       "      <td>51</td>\n",
       "      <td>16</td>\n",
       "      <td>3.8</td>\n",
       "      <td>77.5</td>\n",
       "      <td>8.0</td>\n",
       "      <td>2.0</td>\n",
       "      <td>0</td>\n",
       "      <td>1</td>\n",
       "    </tr>\n",
       "    <tr>\n",
       "      <th>236</th>\n",
       "      <td>26</td>\n",
       "      <td>49</td>\n",
       "      <td>6</td>\n",
       "      <td>2.0</td>\n",
       "      <td>61.3</td>\n",
       "      <td>11.9</td>\n",
       "      <td>0.6</td>\n",
       "      <td>0</td>\n",
       "      <td>1</td>\n",
       "    </tr>\n",
       "    <tr>\n",
       "      <th>15</th>\n",
       "      <td>29</td>\n",
       "      <td>89</td>\n",
       "      <td>13</td>\n",
       "      <td>0.7</td>\n",
       "      <td>36.1</td>\n",
       "      <td>1.7</td>\n",
       "      <td>0.0</td>\n",
       "      <td>0</td>\n",
       "      <td>0</td>\n",
       "    </tr>\n",
       "    <tr>\n",
       "      <th>66</th>\n",
       "      <td>32</td>\n",
       "      <td>75</td>\n",
       "      <td>14</td>\n",
       "      <td>0.0</td>\n",
       "      <td>86.4</td>\n",
       "      <td>13.0</td>\n",
       "      <td>5.2</td>\n",
       "      <td>1</td>\n",
       "      <td>0</td>\n",
       "    </tr>\n",
       "    <tr>\n",
       "      <th>127</th>\n",
       "      <td>35</td>\n",
       "      <td>54</td>\n",
       "      <td>11</td>\n",
       "      <td>0.1</td>\n",
       "      <td>83.7</td>\n",
       "      <td>8.4</td>\n",
       "      <td>3.1</td>\n",
       "      <td>1</td>\n",
       "      <td>1</td>\n",
       "    </tr>\n",
       "    <tr>\n",
       "      <th>33</th>\n",
       "      <td>33</td>\n",
       "      <td>78</td>\n",
       "      <td>17</td>\n",
       "      <td>0.0</td>\n",
       "      <td>80.1</td>\n",
       "      <td>4.6</td>\n",
       "      <td>2.7</td>\n",
       "      <td>0</td>\n",
       "      <td>0</td>\n",
       "    </tr>\n",
       "    <tr>\n",
       "      <th>19</th>\n",
       "      <td>30</td>\n",
       "      <td>80</td>\n",
       "      <td>16</td>\n",
       "      <td>0.4</td>\n",
       "      <td>59.8</td>\n",
       "      <td>3.4</td>\n",
       "      <td>0.9</td>\n",
       "      <td>0</td>\n",
       "      <td>0</td>\n",
       "    </tr>\n",
       "    <tr>\n",
       "      <th>108</th>\n",
       "      <td>31</td>\n",
       "      <td>52</td>\n",
       "      <td>14</td>\n",
       "      <td>0.0</td>\n",
       "      <td>87.7</td>\n",
       "      <td>6.4</td>\n",
       "      <td>6.2</td>\n",
       "      <td>1</td>\n",
       "      <td>0</td>\n",
       "    </tr>\n",
       "    <tr>\n",
       "      <th>30</th>\n",
       "      <td>29</td>\n",
       "      <td>68</td>\n",
       "      <td>19</td>\n",
       "      <td>1.0</td>\n",
       "      <td>59.9</td>\n",
       "      <td>2.5</td>\n",
       "      <td>1.1</td>\n",
       "      <td>0</td>\n",
       "      <td>0</td>\n",
       "    </tr>\n",
       "    <tr>\n",
       "      <th>185</th>\n",
       "      <td>38</td>\n",
       "      <td>35</td>\n",
       "      <td>15</td>\n",
       "      <td>0.0</td>\n",
       "      <td>93.8</td>\n",
       "      <td>23.0</td>\n",
       "      <td>15.7</td>\n",
       "      <td>1</td>\n",
       "      <td>1</td>\n",
       "    </tr>\n",
       "    <tr>\n",
       "      <th>164</th>\n",
       "      <td>39</td>\n",
       "      <td>45</td>\n",
       "      <td>13</td>\n",
       "      <td>0.6</td>\n",
       "      <td>85.2</td>\n",
       "      <td>11.3</td>\n",
       "      <td>4.2</td>\n",
       "      <td>1</td>\n",
       "      <td>1</td>\n",
       "    </tr>\n",
       "    <tr>\n",
       "      <th>10</th>\n",
       "      <td>31</td>\n",
       "      <td>65</td>\n",
       "      <td>14</td>\n",
       "      <td>0.0</td>\n",
       "      <td>84.5</td>\n",
       "      <td>12.5</td>\n",
       "      <td>4.0</td>\n",
       "      <td>1</td>\n",
       "      <td>0</td>\n",
       "    </tr>\n",
       "    <tr>\n",
       "      <th>73</th>\n",
       "      <td>35</td>\n",
       "      <td>63</td>\n",
       "      <td>15</td>\n",
       "      <td>0.0</td>\n",
       "      <td>87.0</td>\n",
       "      <td>19.0</td>\n",
       "      <td>5.9</td>\n",
       "      <td>1</td>\n",
       "      <td>0</td>\n",
       "    </tr>\n",
       "    <tr>\n",
       "      <th>93</th>\n",
       "      <td>22</td>\n",
       "      <td>86</td>\n",
       "      <td>15</td>\n",
       "      <td>10.1</td>\n",
       "      <td>30.5</td>\n",
       "      <td>0.7</td>\n",
       "      <td>0.0</td>\n",
       "      <td>0</td>\n",
       "      <td>0</td>\n",
       "    </tr>\n",
       "    <tr>\n",
       "      <th>155</th>\n",
       "      <td>34</td>\n",
       "      <td>58</td>\n",
       "      <td>18</td>\n",
       "      <td>0.0</td>\n",
       "      <td>88.0</td>\n",
       "      <td>13.6</td>\n",
       "      <td>8.0</td>\n",
       "      <td>1</td>\n",
       "      <td>1</td>\n",
       "    </tr>\n",
       "    <tr>\n",
       "      <th>111</th>\n",
       "      <td>28</td>\n",
       "      <td>84</td>\n",
       "      <td>18</td>\n",
       "      <td>0.0</td>\n",
       "      <td>83.8</td>\n",
       "      <td>13.5</td>\n",
       "      <td>4.5</td>\n",
       "      <td>1</td>\n",
       "      <td>0</td>\n",
       "    </tr>\n",
       "    <tr>\n",
       "      <th>217</th>\n",
       "      <td>30</td>\n",
       "      <td>58</td>\n",
       "      <td>12</td>\n",
       "      <td>4.1</td>\n",
       "      <td>66.1</td>\n",
       "      <td>4.0</td>\n",
       "      <td>1.0</td>\n",
       "      <td>0</td>\n",
       "      <td>1</td>\n",
       "    </tr>\n",
       "    <tr>\n",
       "      <th>25</th>\n",
       "      <td>31</td>\n",
       "      <td>64</td>\n",
       "      <td>18</td>\n",
       "      <td>0.0</td>\n",
       "      <td>86.8</td>\n",
       "      <td>17.8</td>\n",
       "      <td>6.7</td>\n",
       "      <td>1</td>\n",
       "      <td>0</td>\n",
       "    </tr>\n",
       "    <tr>\n",
       "      <th>60</th>\n",
       "      <td>35</td>\n",
       "      <td>64</td>\n",
       "      <td>17</td>\n",
       "      <td>0.0</td>\n",
       "      <td>87.2</td>\n",
       "      <td>31.9</td>\n",
       "      <td>6.8</td>\n",
       "      <td>1</td>\n",
       "      <td>0</td>\n",
       "    </tr>\n",
       "    <tr>\n",
       "      <th>18</th>\n",
       "      <td>31</td>\n",
       "      <td>55</td>\n",
       "      <td>16</td>\n",
       "      <td>0.1</td>\n",
       "      <td>79.9</td>\n",
       "      <td>4.5</td>\n",
       "      <td>2.5</td>\n",
       "      <td>0</td>\n",
       "      <td>0</td>\n",
       "    </tr>\n",
       "    <tr>\n",
       "      <th>126</th>\n",
       "      <td>32</td>\n",
       "      <td>60</td>\n",
       "      <td>14</td>\n",
       "      <td>0.2</td>\n",
       "      <td>77.1</td>\n",
       "      <td>6.0</td>\n",
       "      <td>1.8</td>\n",
       "      <td>0</td>\n",
       "      <td>1</td>\n",
       "    </tr>\n",
       "    <tr>\n",
       "      <th>96</th>\n",
       "      <td>29</td>\n",
       "      <td>75</td>\n",
       "      <td>16</td>\n",
       "      <td>0.0</td>\n",
       "      <td>80.8</td>\n",
       "      <td>3.4</td>\n",
       "      <td>2.8</td>\n",
       "      <td>1</td>\n",
       "      <td>0</td>\n",
       "    </tr>\n",
       "    <tr>\n",
       "      <th>196</th>\n",
       "      <td>35</td>\n",
       "      <td>46</td>\n",
       "      <td>13</td>\n",
       "      <td>0.3</td>\n",
       "      <td>83.9</td>\n",
       "      <td>16.9</td>\n",
       "      <td>3.5</td>\n",
       "      <td>1</td>\n",
       "      <td>1</td>\n",
       "    </tr>\n",
       "    <tr>\n",
       "      <th>137</th>\n",
       "      <td>29</td>\n",
       "      <td>87</td>\n",
       "      <td>15</td>\n",
       "      <td>0.4</td>\n",
       "      <td>47.4</td>\n",
       "      <td>4.2</td>\n",
       "      <td>0.2</td>\n",
       "      <td>0</td>\n",
       "      <td>1</td>\n",
       "    </tr>\n",
       "    <tr>\n",
       "      <th>240</th>\n",
       "      <td>27</td>\n",
       "      <td>87</td>\n",
       "      <td>29</td>\n",
       "      <td>0.5</td>\n",
       "      <td>45.9</td>\n",
       "      <td>3.5</td>\n",
       "      <td>0.4</td>\n",
       "      <td>0</td>\n",
       "      <td>1</td>\n",
       "    </tr>\n",
       "    <tr>\n",
       "      <th>75</th>\n",
       "      <td>36</td>\n",
       "      <td>55</td>\n",
       "      <td>13</td>\n",
       "      <td>0.3</td>\n",
       "      <td>82.4</td>\n",
       "      <td>15.6</td>\n",
       "      <td>3.7</td>\n",
       "      <td>1</td>\n",
       "      <td>0</td>\n",
       "    </tr>\n",
       "    <tr>\n",
       "      <th>117</th>\n",
       "      <td>31</td>\n",
       "      <td>54</td>\n",
       "      <td>11</td>\n",
       "      <td>0.0</td>\n",
       "      <td>82.0</td>\n",
       "      <td>6.0</td>\n",
       "      <td>2.5</td>\n",
       "      <td>0</td>\n",
       "      <td>0</td>\n",
       "    </tr>\n",
       "    <tr>\n",
       "      <th>112</th>\n",
       "      <td>31</td>\n",
       "      <td>55</td>\n",
       "      <td>11</td>\n",
       "      <td>0.0</td>\n",
       "      <td>87.8</td>\n",
       "      <td>16.5</td>\n",
       "      <td>5.4</td>\n",
       "      <td>1</td>\n",
       "      <td>0</td>\n",
       "    </tr>\n",
       "    <tr>\n",
       "      <th>16</th>\n",
       "      <td>30</td>\n",
       "      <td>89</td>\n",
       "      <td>16</td>\n",
       "      <td>0.6</td>\n",
       "      <td>37.3</td>\n",
       "      <td>1.1</td>\n",
       "      <td>0.0</td>\n",
       "      <td>0</td>\n",
       "      <td>0</td>\n",
       "    </tr>\n",
       "    <tr>\n",
       "      <th>195</th>\n",
       "      <td>37</td>\n",
       "      <td>40</td>\n",
       "      <td>13</td>\n",
       "      <td>0.0</td>\n",
       "      <td>91.9</td>\n",
       "      <td>22.3</td>\n",
       "      <td>10.8</td>\n",
       "      <td>1</td>\n",
       "      <td>1</td>\n",
       "    </tr>\n",
       "    <tr>\n",
       "      <th>67</th>\n",
       "      <td>32</td>\n",
       "      <td>69</td>\n",
       "      <td>16</td>\n",
       "      <td>0.0</td>\n",
       "      <td>86.5</td>\n",
       "      <td>15.5</td>\n",
       "      <td>5.5</td>\n",
       "      <td>1</td>\n",
       "      <td>0</td>\n",
       "    </tr>\n",
       "    <tr>\n",
       "      <th>167</th>\n",
       "      <td>32</td>\n",
       "      <td>81</td>\n",
       "      <td>17</td>\n",
       "      <td>0.0</td>\n",
       "      <td>84.6</td>\n",
       "      <td>21.1</td>\n",
       "      <td>4.7</td>\n",
       "      <td>1</td>\n",
       "      <td>1</td>\n",
       "    </tr>\n",
       "    <tr>\n",
       "      <th>38</th>\n",
       "      <td>32</td>\n",
       "      <td>68</td>\n",
       "      <td>14</td>\n",
       "      <td>1.4</td>\n",
       "      <td>66.6</td>\n",
       "      <td>7.7</td>\n",
       "      <td>1.1</td>\n",
       "      <td>0</td>\n",
       "      <td>0</td>\n",
       "    </tr>\n",
       "    <tr>\n",
       "      <th>180</th>\n",
       "      <td>36</td>\n",
       "      <td>56</td>\n",
       "      <td>16</td>\n",
       "      <td>0.0</td>\n",
       "      <td>88.9</td>\n",
       "      <td>23.8</td>\n",
       "      <td>8.2</td>\n",
       "      <td>1</td>\n",
       "      <td>1</td>\n",
       "    </tr>\n",
       "  </tbody>\n",
       "</table>\n",
       "</div>"
      ],
      "text/plain": [
       "     Temperature  RH  Ws  Rain  FFMC   DMC   ISI  Classes  Region\n",
       "24            31  64  15   0.0  86.7  14.2   5.7        1       0\n",
       "6             33  54  13   0.0  88.2   9.9   6.4        1       0\n",
       "152           28  58  18   2.2  63.7   3.2   1.2        0       1\n",
       "232           34  58  13   0.2  79.5  18.7   2.1        0       1\n",
       "238           30  65  14   0.0  85.4  16.0   4.5        1       1\n",
       "175           39  64   9   1.2  73.8  11.7   1.1        0       1\n",
       "215           28  75  16   0.0  82.2   4.4   3.3        1       1\n",
       "150           37  36  13   0.6  86.2  17.9   4.8        1       1\n",
       "9             28  79  12   0.0  73.2   9.5   1.3        0       0\n",
       "113           31  50  19   0.6  77.8  10.6   2.4        0       0\n",
       "45            28  76  21   0.0  72.6   7.0   0.7        0       0\n",
       "209           35  56  14   0.4  79.2  37.0   2.1        0       1\n",
       "227           32  51  13   0.0  88.7  16.0   6.9        1       1\n",
       "170           36  50  16   0.0  89.9  32.7   9.5        1       1\n",
       "82            36  55  18   0.0  89.1  33.5   9.9        1       0\n",
       "161           34  51  16   3.8  77.5   8.0   2.0        0       1\n",
       "236           26  49   6   2.0  61.3  11.9   0.6        0       1\n",
       "15            29  89  13   0.7  36.1   1.7   0.0        0       0\n",
       "66            32  75  14   0.0  86.4  13.0   5.2        1       0\n",
       "127           35  54  11   0.1  83.7   8.4   3.1        1       1\n",
       "33            33  78  17   0.0  80.1   4.6   2.7        0       0\n",
       "19            30  80  16   0.4  59.8   3.4   0.9        0       0\n",
       "108           31  52  14   0.0  87.7   6.4   6.2        1       0\n",
       "30            29  68  19   1.0  59.9   2.5   1.1        0       0\n",
       "185           38  35  15   0.0  93.8  23.0  15.7        1       1\n",
       "164           39  45  13   0.6  85.2  11.3   4.2        1       1\n",
       "10            31  65  14   0.0  84.5  12.5   4.0        1       0\n",
       "73            35  63  15   0.0  87.0  19.0   5.9        1       0\n",
       "93            22  86  15  10.1  30.5   0.7   0.0        0       0\n",
       "155           34  58  18   0.0  88.0  13.6   8.0        1       1\n",
       "111           28  84  18   0.0  83.8  13.5   4.5        1       0\n",
       "217           30  58  12   4.1  66.1   4.0   1.0        0       1\n",
       "25            31  64  18   0.0  86.8  17.8   6.7        1       0\n",
       "60            35  64  17   0.0  87.2  31.9   6.8        1       0\n",
       "18            31  55  16   0.1  79.9   4.5   2.5        0       0\n",
       "126           32  60  14   0.2  77.1   6.0   1.8        0       1\n",
       "96            29  75  16   0.0  80.8   3.4   2.8        1       0\n",
       "196           35  46  13   0.3  83.9  16.9   3.5        1       1\n",
       "137           29  87  15   0.4  47.4   4.2   0.2        0       1\n",
       "240           27  87  29   0.5  45.9   3.5   0.4        0       1\n",
       "75            36  55  13   0.3  82.4  15.6   3.7        1       0\n",
       "117           31  54  11   0.0  82.0   6.0   2.5        0       0\n",
       "112           31  55  11   0.0  87.8  16.5   5.4        1       0\n",
       "16            30  89  16   0.6  37.3   1.1   0.0        0       0\n",
       "195           37  40  13   0.0  91.9  22.3  10.8        1       1\n",
       "67            32  69  16   0.0  86.5  15.5   5.5        1       0\n",
       "167           32  81  17   0.0  84.6  21.1   4.7        1       1\n",
       "38            32  68  14   1.4  66.6   7.7   1.1        0       0\n",
       "180           36  56  16   0.0  88.9  23.8   8.2        1       1"
      ]
     },
     "execution_count": 87,
     "metadata": {},
     "output_type": "execute_result"
    }
   ],
   "source": [
    "x_test"
   ]
  },
  {
   "cell_type": "markdown",
   "id": "a8eb1ada",
   "metadata": {},
   "source": [
    "### Feature Scaling"
   ]
  },
  {
   "cell_type": "code",
   "execution_count": 88,
   "id": "e048b9b6",
   "metadata": {},
   "outputs": [],
   "source": [
    "scaler = StandardScaler()\n",
    "x_train_scaled = scaler.fit_transform(x_train)\n",
    "x_test_scaled = scaler.transform(x_test)"
   ]
  },
  {
   "cell_type": "code",
   "execution_count": 89,
   "id": "4d81f057",
   "metadata": {},
   "outputs": [
    {
     "data": {
      "text/plain": [
       "array([[-0.87563202,  0.21321832,  1.28577038, ..., -0.79648833,\n",
       "        -1.14434427, -1.01036297],\n",
       "       [ 0.22209084, -1.65484925,  0.14504117, ...,  1.88757476,\n",
       "         0.8738629 ,  0.98974332],\n",
       "       [ 1.5942444 , -1.25454906, -0.99568804, ..., -0.19488798,\n",
       "         0.8738629 ,  0.98974332],\n",
       "       ...,\n",
       "       [-1.97335488,  0.947102  ,  0.52528424, ..., -1.0972885 ,\n",
       "        -1.14434427, -1.01036297],\n",
       "       [ 0.49652155, -0.18708188,  0.14504117, ...,  0.56868169,\n",
       "         0.8738629 ,  0.98974332],\n",
       "       [-0.60120131,  1.0138187 ,  2.04625653, ..., -0.88904223,\n",
       "        -1.14434427, -1.01036297]])"
      ]
     },
     "execution_count": 89,
     "metadata": {},
     "output_type": "execute_result"
    }
   ],
   "source": [
    "x_train_scaled"
   ]
  },
  {
   "cell_type": "code",
   "execution_count": 90,
   "id": "6aae3fab",
   "metadata": {},
   "outputs": [
    {
     "data": {
      "text/plain": [
       "array([[-0.32677059,  0.14650162, -0.2352019 , -0.38015572,  0.61070375,\n",
       "        -0.07699537,  0.17532762,  0.8738629 , -1.01036297],\n",
       "       [ 0.22209084, -0.52066537, -0.99568804, -0.38015572,  0.71720269,\n",
       "        -0.40637763,  0.33729694,  0.8738629 , -1.01036297],\n",
       "       [-1.15006273, -0.25379858,  0.90552731,  0.6761624 , -1.02228009,\n",
       "        -0.91960114, -0.86590375, -1.14434427,  0.98974332],\n",
       "       [ 0.49652155, -0.25379858, -0.99568804, -0.2841268 ,  0.09950881,\n",
       "         0.26770699, -0.65765748, -1.14434427,  0.98974332],\n",
       "       [-0.60120131,  0.21321832, -0.61544497, -0.38015572,  0.51840466,\n",
       "         0.06088557, -0.10233408,  0.8738629 ,  0.98974332],\n",
       "       [ 1.86867512,  0.14650162, -2.51666033,  0.1960178 , -0.30518719,\n",
       "        -0.26849668, -0.88904223, -1.14434427,  0.98974332],\n",
       "       [-1.15006273,  0.8803853 ,  0.14504117, -0.38015572,  0.29120691,\n",
       "        -0.82768051, -0.37999578,  0.8738629 ,  0.98974332],\n",
       "       [ 1.31981369, -1.72156595, -0.99568804, -0.09206896,  0.5752041 ,\n",
       "         0.20642657, -0.03291866,  0.8738629 ,  0.98974332],\n",
       "       [-1.15006273,  1.1472521 , -1.37593111, -0.38015572, -0.34778676,\n",
       "        -0.43701783, -0.84276528, -1.14434427, -1.01036297],\n",
       "       [-0.32677059, -0.78753217,  1.28577038, -0.09206896, -0.02119   ,\n",
       "        -0.35275726, -0.58824205, -1.14434427, -1.01036297],\n",
       "       [-1.15006273,  0.947102  ,  2.04625653, -0.38015572, -0.39038634,\n",
       "        -0.62851914, -0.98159613, -1.14434427, -1.01036297],\n",
       "       [ 0.77095226, -0.38723197, -0.61544497, -0.18809788,  0.07820902,\n",
       "         1.66949658, -0.65765748, -1.14434427,  0.98974332],\n",
       "       [-0.05233988, -0.72081547, -0.99568804, -0.38015572,  0.75270234,\n",
       "         0.06088557,  0.45298932,  0.8738629 ,  0.98974332],\n",
       "       [ 1.04538298, -0.78753217,  0.14504117, -0.38015572,  0.8379015 ,\n",
       "         1.34011432,  1.05458967,  0.8738629 ,  0.98974332],\n",
       "       [ 1.04538298, -0.45394867,  0.90552731, -0.38015572,  0.78110206,\n",
       "         1.40139474,  1.14714357,  0.8738629 , -1.01036297],\n",
       "       [ 0.49652155, -0.72081547,  0.14504117,  1.44439376, -0.04248979,\n",
       "        -0.55191862, -0.68079595, -1.14434427,  0.98974332],\n",
       "       [-1.69892416, -0.85424886, -3.65738954,  0.58013348, -1.1926784 ,\n",
       "        -0.25317658, -1.0047346 , -1.14434427,  0.98974332],\n",
       "       [-0.87563202,  1.81441908, -0.99568804, -0.0440545 , -2.98186069,\n",
       "        -1.03450192, -1.14356545, -1.14434427, -1.01036297],\n",
       "       [-0.05233988,  0.8803853 , -0.61544497, -0.38015572,  0.58940396,\n",
       "        -0.168916  ,  0.05963524,  0.8738629 , -1.01036297],\n",
       "       [ 0.77095226, -0.52066537, -1.75617418, -0.33214126,  0.39770586,\n",
       "        -0.52127841, -0.42627273,  0.8738629 ,  0.98974332],\n",
       "       [ 0.22209084,  1.0805354 ,  0.52528424, -0.38015572,  0.14210839,\n",
       "        -0.8123604 , -0.51882663, -1.14434427, -1.01036297],\n",
       "       [-0.60120131,  1.2139688 ,  0.14504117, -0.18809788, -1.29917735,\n",
       "        -0.90428103, -0.93531918, -1.14434427, -1.01036297],\n",
       "       [-0.32677059, -0.65409877, -0.61544497, -0.38015572,  0.68170305,\n",
       "        -0.67447946,  0.29101999,  0.8738629 , -1.01036297],\n",
       "       [-0.87563202,  0.41336841,  1.28577038,  0.09998888, -1.29207742,\n",
       "        -0.9732215 , -0.88904223, -1.14434427, -1.01036297],\n",
       "       [ 1.5942444 , -1.78828265, -0.2352019 , -0.38015572,  1.11479876,\n",
       "         0.59708924,  2.48917511,  0.8738629 ,  0.98974332],\n",
       "       [ 1.86867512, -1.12111566, -0.99568804, -0.09206896,  0.5042048 ,\n",
       "        -0.29913689, -0.1717495 ,  0.8738629 ,  0.98974332],\n",
       "       [-0.32677059,  0.21321832, -0.61544497, -0.38015572,  0.4545053 ,\n",
       "        -0.20721626, -0.21802645,  0.8738629 , -1.01036297],\n",
       "       [ 0.77095226,  0.07978492, -0.2352019 , -0.38015572,  0.63200354,\n",
       "         0.29068714,  0.22160457,  0.8738629 , -1.01036297],\n",
       "       [-2.79664702,  1.61426899, -0.2352019 ,  4.46930474, -3.37945676,\n",
       "        -1.11110245, -1.14356545, -1.14434427, -1.01036297],\n",
       "       [ 0.49652155, -0.25379858,  0.90552731, -0.38015572,  0.70300284,\n",
       "        -0.12295569,  0.70751254,  0.8738629 ,  0.98974332],\n",
       "       [-1.15006273,  1.48083559,  0.90552731, -0.38015572,  0.40480579,\n",
       "        -0.13061574, -0.10233408,  0.8738629 , -1.01036297],\n",
       "       [-0.60120131, -0.25379858, -1.37593111,  1.58843714, -0.85188177,\n",
       "        -0.85832072, -0.9121807 , -1.14434427,  0.98974332],\n",
       "       [-0.32677059,  0.14650162,  0.90552731, -0.38015572,  0.61780368,\n",
       "         0.19876651,  0.40671237,  0.8738629 , -1.01036297],\n",
       "       [ 0.77095226,  0.14650162,  0.52528424, -0.38015572,  0.6462034 ,\n",
       "         1.2788339 ,  0.42985084,  0.8738629 , -1.01036297],\n",
       "       [-0.32677059, -0.45394867,  0.14504117, -0.33214126,  0.12790853,\n",
       "        -0.82002045, -0.56510358, -1.14434427, -1.01036297],\n",
       "       [-0.05233988, -0.12036518, -0.61544497, -0.2841268 , -0.0708895 ,\n",
       "        -0.70511967, -0.7270729 , -1.14434427,  0.98974332],\n",
       "       [-0.87563202,  0.8803853 ,  0.14504117, -0.38015572,  0.1918079 ,\n",
       "        -0.90428103, -0.49568815,  0.8738629 , -1.01036297],\n",
       "       [ 0.77095226, -1.05439896, -0.99568804, -0.23611234,  0.41190572,\n",
       "         0.12982604, -0.33371883,  0.8738629 ,  0.98974332],\n",
       "       [-0.87563202,  1.68098569, -0.2352019 , -0.18809788, -2.17956863,\n",
       "        -0.84300061, -1.0972885 , -1.14434427,  0.98974332],\n",
       "       [-1.42449345,  1.68098569,  5.0882011 , -0.14008342, -2.28606758,\n",
       "        -0.89662098, -1.05101155, -1.14434427,  0.98974332],\n",
       "       [ 1.04538298, -0.45394867, -0.99568804, -0.23611234,  0.30540677,\n",
       "         0.03024536, -0.28744188,  0.8738629 , -1.01036297],\n",
       "       [-0.32677059, -0.52066537, -1.75617418, -0.38015572,  0.27700705,\n",
       "        -0.70511967, -0.56510358, -1.14434427, -1.01036297],\n",
       "       [-0.32677059, -0.45394867, -1.75617418, -0.38015572,  0.68880298,\n",
       "         0.09918583,  0.10591219,  0.8738629 , -1.01036297],\n",
       "       [-0.60120131,  1.81441908,  0.14504117, -0.09206896, -2.89666153,\n",
       "        -1.08046224, -1.14356545, -1.14434427, -1.01036297],\n",
       "       [ 1.31981369, -1.45469915, -0.99568804, -0.38015572,  0.97990009,\n",
       "         0.54346887,  1.35538984,  0.8738629 ,  0.98974332],\n",
       "       [-0.05233988,  0.48008511,  0.14504117, -0.38015572,  0.59650389,\n",
       "         0.02258531,  0.12905067,  0.8738629 , -1.01036297],\n",
       "       [-0.05233988,  1.2806855 ,  0.52528424, -0.38015572,  0.46160522,\n",
       "         0.45154824, -0.05605713,  0.8738629 ,  0.98974332],\n",
       "       [-0.05233988,  0.41336841, -0.61544497,  0.29204672, -0.81638213,\n",
       "        -0.57489878, -0.88904223, -1.14434427, -1.01036297],\n",
       "       [ 1.04538298, -0.38723197,  0.14504117, -0.38015572,  0.7669022 ,\n",
       "         0.65836966,  0.75378949,  0.8738629 ,  0.98974332]])"
      ]
     },
     "execution_count": 90,
     "metadata": {},
     "output_type": "execute_result"
    }
   ],
   "source": [
    "x_test_scaled"
   ]
  },
  {
   "cell_type": "markdown",
   "id": "5be81f48",
   "metadata": {},
   "source": [
    "### Visualtizing the x_train_scaled data"
   ]
  },
  {
   "cell_type": "code",
   "execution_count": 102,
   "id": "252ae890",
   "metadata": {},
   "outputs": [
    {
     "data": {
      "text/plain": [
       "<Axes: >"
      ]
     },
     "execution_count": 102,
     "metadata": {},
     "output_type": "execute_result"
    },
    {
     "data": {
      "image/png": "[encoded data removed]",
      "text/plain": [
       "<Figure size 1080x504 with 1 Axes>"
      ]
     },
     "metadata": {
      "needs_background": "light"
     },
     "output_type": "display_data"
    }
   ],
   "source": [
    "plt.figure(figsize=(15,7))\n",
    "sns.boxplot(data =x_train_scaled)"
   ]
  },
  {
   "cell_type": "markdown",
   "id": "b95114e7",
   "metadata": {},
   "source": [
    "### Linear Regression"
   ]
  },
  {
   "cell_type": "code",
   "execution_count": 105,
   "id": "d5b04fca",
   "metadata": {},
   "outputs": [
    {
     "data": {
      "text/plain": [
       "LinearRegression()"
      ]
     },
     "execution_count": 105,
     "metadata": {},
     "output_type": "execute_result"
    }
   ],
   "source": [
    "linear = LinearRegression()\n",
    "linear.fit(x_train_scaled,y_train)"
   ]
  },
  {
   "cell_type": "code",
   "execution_count": 111,
   "id": "126a7679",
   "metadata": {},
   "outputs": [],
   "source": [
    "y_pred = linear.predict(x_test_scaled)"
   ]
  },
  {
   "cell_type": "code",
   "execution_count": 112,
   "id": "586b4798",
   "metadata": {},
   "outputs": [],
   "source": [
    "mae = mean_absolute_error(y_pred , y_test)"
   ]
  },
  {
   "cell_type": "code",
   "execution_count": 113,
   "id": "fca5541f",
   "metadata": {},
   "outputs": [],
   "source": [
    "score = r2_score(y_pred , y_test)"
   ]
  },
  {
   "cell_type": "code",
   "execution_count": 114,
   "id": "1e1e8ae0",
   "metadata": {},
   "outputs": [
    {
     "name": "stdout",
     "output_type": "stream",
     "text": [
      "0.5049978694165663 0.9798989161128818\n"
     ]
    }
   ],
   "source": [
    "print(mae , score)"
   ]
  },
  {
   "cell_type": "code",
   "execution_count": 115,
   "id": "f6d2f422",
   "metadata": {},
   "outputs": [
    {
     "data": {
      "text/plain": [
       "<matplotlib.collections.PathCollection at 0x22520f438b0>"
      ]
     },
     "execution_count": 115,
     "metadata": {},
     "output_type": "execute_result"
    },
    {
     "data": {
      "image/png": "[encoded data removed]",
      "text/plain": [
       "<Figure size 432x288 with 1 Axes>"
      ]
     },
     "metadata": {
      "needs_background": "light"
     },
     "output_type": "display_data"
    }
   ],
   "source": [
    "plt.scatter(y_test , y_pred)"
   ]
  },
  {
   "cell_type": "markdown",
   "id": "c7f8ad7f",
   "metadata": {},
   "source": [
    "### Lasso"
   ]
  },
  {
   "cell_type": "code",
   "execution_count": 116,
   "id": "c51e5036",
   "metadata": {},
   "outputs": [
    {
     "data": {
      "text/plain": [
       "Lasso()"
      ]
     },
     "execution_count": 116,
     "metadata": {},
     "output_type": "execute_result"
    }
   ],
   "source": [
    "lasso = Lasso()\n",
    "lasso.fit(x_train_scaled , y_train)"
   ]
  },
  {
   "cell_type": "code",
   "execution_count": 117,
   "id": "fd7649c0",
   "metadata": {},
   "outputs": [],
   "source": [
    "lasso_pred = lasso.predict(x_test_scaled)"
   ]
  },
  {
   "cell_type": "code",
   "execution_count": 120,
   "id": "7b53af03",
   "metadata": {},
   "outputs": [],
   "source": [
    "lasso_mae = mean_absolute_error(lasso_pred,y_test)"
   ]
  },
  {
   "cell_type": "code",
   "execution_count": 121,
   "id": "936cd4f9",
   "metadata": {},
   "outputs": [],
   "source": [
    "lasso_score = r2_score(lasso_pred,y_test)"
   ]
  },
  {
   "cell_type": "code",
   "execution_count": 123,
   "id": "b2c4c041",
   "metadata": {},
   "outputs": [
    {
     "name": "stdout",
     "output_type": "stream",
     "text": [
      "Mean Absolute Error 1.0093958923873407\n",
      "Score 0.9223897215555453\n"
     ]
    }
   ],
   "source": [
    "print(\"Mean Absolute Error\", lasso_mae)\n",
    "print(\"Score\", lasso_score)"
   ]
  },
  {
   "cell_type": "code",
   "execution_count": 124,
   "id": "396e56a1",
   "metadata": {},
   "outputs": [
    {
     "data": {
      "text/plain": [
       "<matplotlib.collections.PathCollection at 0x22521834ac0>"
      ]
     },
     "execution_count": 124,
     "metadata": {},
     "output_type": "execute_result"
    },
    {
     "data": {
      "image/png": "[encoded data removed]",
      "text/plain": [
       "<Figure size 432x288 with 1 Axes>"
      ]
     },
     "metadata": {
      "needs_background": "light"
     },
     "output_type": "display_data"
    }
   ],
   "source": [
    "plt.scatter(lasso_pred,y_test)"
   ]
  },
  {
   "cell_type": "markdown",
   "id": "8f533064",
   "metadata": {},
   "source": [
    "### Ridge"
   ]
  },
  {
   "cell_type": "code",
   "execution_count": 125,
   "id": "95ab1a47",
   "metadata": {},
   "outputs": [
    {
     "data": {
      "text/plain": [
       "Ridge()"
      ]
     },
     "execution_count": 125,
     "metadata": {},
     "output_type": "execute_result"
    }
   ],
   "source": [
    "ridge = Ridge()\n",
    "ridge.fit(x_train_scaled,y_train)"
   ]
  },
  {
   "cell_type": "code",
   "execution_count": 126,
   "id": "e5eee21a",
   "metadata": {},
   "outputs": [],
   "source": [
    "ridge_pred = ridge.predict(x_test_scaled)"
   ]
  },
  {
   "cell_type": "code",
   "execution_count": 127,
   "id": "5dcde214",
   "metadata": {},
   "outputs": [],
   "source": [
    "ridge_mae = mean_absolute_error(ridge_pred,y_test)"
   ]
  },
  {
   "cell_type": "code",
   "execution_count": 128,
   "id": "61e72cb9",
   "metadata": {},
   "outputs": [],
   "source": [
    "ridge_score = r2_score(ridge_pred,y_test)"
   ]
  },
  {
   "cell_type": "code",
   "execution_count": 129,
   "id": "292ec396",
   "metadata": {},
   "outputs": [
    {
     "name": "stdout",
     "output_type": "stream",
     "text": [
      "Mean Absolute Error 0.5192048325844728\n",
      "Score 0.9793481599578648\n"
     ]
    }
   ],
   "source": [
    "print(\"Mean Absolute Error\", ridge_mae)\n",
    "print(\"Score\", ridge_score)"
   ]
  },
  {
   "cell_type": "code",
   "execution_count": 130,
   "id": "d3da4c4e",
   "metadata": {},
   "outputs": [
    {
     "data": {
      "text/plain": [
       "<matplotlib.collections.PathCollection at 0x225253b3940>"
      ]
     },
     "execution_count": 130,
     "metadata": {},
     "output_type": "execute_result"
    },
    {
     "data": {
      "image/png": "[encoded data removed]",
      "text/plain": [
       "<Figure size 432x288 with 1 Axes>"
      ]
     },
     "metadata": {
      "needs_background": "light"
     },
     "output_type": "display_data"
    }
   ],
   "source": [
    "plt.scatter(ridge_pred,y_test)"
   ]
  },
  {
   "cell_type": "markdown",
   "id": "4b4209ed",
   "metadata": {},
   "source": [
    "### ElasticNet"
   ]
  },
  {
   "cell_type": "code",
   "execution_count": 132,
   "id": "2c572705",
   "metadata": {},
   "outputs": [
    {
     "data": {
      "text/plain": [
       "ElasticNet()"
      ]
     },
     "execution_count": 132,
     "metadata": {},
     "output_type": "execute_result"
    }
   ],
   "source": [
    "el = ElasticNet()\n",
    "el.fit(x_train_scaled , y_train)"
   ]
  },
  {
   "cell_type": "code",
   "execution_count": 133,
   "id": "7564519f",
   "metadata": {},
   "outputs": [],
   "source": [
    "el_pred = el.predict(x_test_scaled)"
   ]
  },
  {
   "cell_type": "code",
   "execution_count": 134,
   "id": "1154a143",
   "metadata": {},
   "outputs": [],
   "source": [
    "el_mae = mean_absolute_error(el_pred , y_test)\n",
    "score_el = r2_score(el_pred , y_test)"
   ]
  },
  {
   "cell_type": "code",
   "execution_count": 135,
   "id": "4784276c",
   "metadata": {},
   "outputs": [
    {
     "name": "stdout",
     "output_type": "stream",
     "text": [
      "Mean Absolute Error 0.5192048325844728\n",
      "Score 0.9793481599578648\n"
     ]
    }
   ],
   "source": [
    "print(\"Mean Absolute Error\", ridge_mae)\n",
    "print(\"Score\", ridge_score)"
   ]
  },
  {
   "cell_type": "code",
   "execution_count": 136,
   "id": "8cee981a",
   "metadata": {},
   "outputs": [
    {
     "data": {
      "text/plain": [
       "<matplotlib.collections.PathCollection at 0x2252562f4c0>"
      ]
     },
     "execution_count": 136,
     "metadata": {},
     "output_type": "execute_result"
    },
    {
     "data": {
      "image/png": "[encoded data removed]",
      "text/plain": [
       "<Figure size 432x288 with 1 Axes>"
      ]
     },
     "metadata": {
      "needs_background": "light"
     },
     "output_type": "display_data"
    }
   ],
   "source": [
    "plt.scatter(el_pred,y_test)"
   ]
  },
  {
   "cell_type": "markdown",
   "id": "8c6557c8",
   "metadata": {},
   "source": [
    "## Cross Validation"
   ]
  },
  {
   "cell_type": "code",
   "execution_count": null,
   "id": "72e76f86",
   "metadata": {},
   "outputs": [],
   "source": []
  }
 ],
 "metadata": {
  "kernelspec": {
   "display_name": "Python 3",
   "language": "python",
   "name": "python3"
  },
  "language_info": {
   "codemirror_mode": {
    "name": "ipython",
    "version": 3
   },
   "file_extension": ".py",
   "mimetype": "text/x-python",
   "name": "python",
   "nbconvert_exporter": "python",
   "pygments_lexer": "ipython3",
   "version": "3.8.8"
  }
 },
 "nbformat": 4,
 "nbformat_minor": 5
}
